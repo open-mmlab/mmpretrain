{
 "cells": [
  {
   "cell_type": "code",
   "execution_count": null,
   "outputs": [],
   "source": [
    "#用于转换权重"
   ],
   "metadata": {
    "collapsed": false,
    "pycharm": {
     "name": "#%%\n"
    }
   }
  },
  {
   "cell_type": "code",
   "execution_count": 3,
   "outputs": [],
   "source": [
    "! python tools/model_converters/vig_to_mmcls.py --src ../vig_checkpoint/vig_ti_74.5.pth --dst ../vig_checkpoint_covert/vig_ti.pth\n",
    "! python tools/model_converters/vig_to_mmcls.py --src ../vig_checkpoint/vig_s_80.6.pth --dst ../vig_checkpoint_covert/vig_s.pth\n",
    "! python tools/model_converters/vig_to_mmcls.py --src ../vig_checkpoint/vig_b_82.6.pth --dst ../vig_checkpoint_covert/vig_b.pth"
   ],
   "metadata": {
    "collapsed": false,
    "pycharm": {
     "name": "#%%\n"
    }
   }
  },
  {
   "cell_type": "code",
   "execution_count": 1,
   "outputs": [],
   "source": [
    "! python tools/model_converters/vig_to_mmcls.py --src ../vig_checkpoint/pvig_ti_78.5.pth.tar --dst ../vig_checkpoint_covert/pvig_ti.pth\n",
    "! python tools/model_converters/vig_to_mmcls.py --src ../vig_checkpoint/pvig_s_82.1.pth.tar --dst ../vig_checkpoint_covert/pvig_s.pth\n",
    "! python tools/model_converters/vig_to_mmcls.py --src ../vig_checkpoint/pvig_m_83.1.pth.tar --dst ../vig_checkpoint_covert/pvig_m.pth\n",
    "! python tools/model_converters/vig_to_mmcls.py --src ../vig_checkpoint/pvig_b_83.66.pth.tar --dst ../vig_checkpoint_covert/pvig_b.pth"
   ],
   "metadata": {
    "collapsed": false,
    "pycharm": {
     "name": "#%%\n"
    }
   }
  },
  {
   "cell_type": "code",
   "execution_count": null,
   "outputs": [],
   "source": [],
   "metadata": {
    "collapsed": false,
    "pycharm": {
     "name": "#%%\n"
    }
   }
  }
 ],
 "metadata": {
  "kernelspec": {
   "display_name": "Python 3",
   "language": "python",
   "name": "python3"
  },
  "language_info": {
   "codemirror_mode": {
    "name": "ipython",
    "version": 2
   },
   "file_extension": ".py",
   "mimetype": "text/x-python",
   "name": "python",
   "nbconvert_exporter": "python",
   "pygments_lexer": "ipython2",
   "version": "2.7.6"
  }
 },
 "nbformat": 4,
 "nbformat_minor": 0
}
