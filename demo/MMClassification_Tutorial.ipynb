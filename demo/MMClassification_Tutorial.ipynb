{
  "nbformat": 4,
  "nbformat_minor": 0,
  "metadata": {
    "colab": {
      "name": "MMClassification_Tutorial",
      "provenance": []
    },
    "kernelspec": {
      "name": "python3",
      "display_name": "Python 3"
    }
  },
  "cells": [
    {
      "cell_type": "markdown",
      "metadata": {
        "id": "hEfEPB7J1Y5A",
        "colab_type": "text"
      },
      "source": [
        "# MMClassification Tutorial\n",
        "Welcome to MMClassification! \n",
        "\n",
        "In this tutorial, we demo\n",
        "* How to do inference with pretrained models\n",
        "* How to train on your own dataset and visualize the results. "
      ]
    },
    {
      "cell_type": "markdown",
      "metadata": {
        "id": "km7dIQQ51bb-",
        "colab_type": "text"
      },
      "source": [
        "## Install MMClassification\n",
        "This step may take several minutes. \n",
        "\n",
        "We use PyTorch 1.5.0 for this tutorial. You may install other versions by change the version number in pip install command."
      ]
    },
    {
      "cell_type": "code",
      "metadata": {
        "id": "AGpLcFER1dys",
        "colab_type": "code",
        "colab": {
          "base_uri": "https://localhost:8080/",
          "height": 343
        },
        "outputId": "c8039ebe-461b-4f40-8688-f4fe4c37cccc"
      },
      "source": [
        "# Install PyTorch\n",
        "!pip install -U torch==1.5.0+cu101 torchvision==0.6.0+cu101 -f https://download.pytorch.org/whl/torch_stable.html"
      ],
      "execution_count": 2,
      "outputs": [
        {
          "output_type": "stream",
          "text": [
            "Looking in links: https://download.pytorch.org/whl/torch_stable.html\n",
            "Collecting torch==1.5.0+cu101\n",
            "\u001b[?25l  Downloading https://download.pytorch.org/whl/cu101/torch-1.5.0%2Bcu101-cp36-cp36m-linux_x86_64.whl (703.8MB)\n",
            "\u001b[K     |████████████████████████████████| 703.8MB 24kB/s \n",
            "\u001b[?25hCollecting torchvision==0.6.0+cu101\n",
            "\u001b[?25l  Downloading https://download.pytorch.org/whl/cu101/torchvision-0.6.0%2Bcu101-cp36-cp36m-linux_x86_64.whl (6.6MB)\n",
            "\u001b[K     |████████████████████████████████| 6.6MB 2.0MB/s \n",
            "\u001b[?25hRequirement already satisfied, skipping upgrade: future in /usr/local/lib/python3.6/dist-packages (from torch==1.5.0+cu101) (0.16.0)\n",
            "Requirement already satisfied, skipping upgrade: numpy in /usr/local/lib/python3.6/dist-packages (from torch==1.5.0+cu101) (1.18.5)\n",
            "Requirement already satisfied, skipping upgrade: pillow>=4.1.1 in /usr/local/lib/python3.6/dist-packages (from torchvision==0.6.0+cu101) (7.0.0)\n",
            "Installing collected packages: torch, torchvision\n",
            "  Found existing installation: torch 1.6.0+cu101\n",
            "    Uninstalling torch-1.6.0+cu101:\n",
            "      Successfully uninstalled torch-1.6.0+cu101\n",
            "  Found existing installation: torchvision 0.7.0+cu101\n",
            "    Uninstalling torchvision-0.7.0+cu101:\n",
            "      Successfully uninstalled torchvision-0.7.0+cu101\n",
            "Successfully installed torch-1.5.0+cu101 torchvision-0.6.0+cu101\n"
          ],
          "name": "stdout"
        }
      ]
    },
    {
      "cell_type": "code",
      "metadata": {
        "id": "S2sJMghW1rUC",
        "colab_type": "code",
        "colab": {
          "base_uri": "https://localhost:8080/",
          "height": 513
        },
        "outputId": "4ad17674-488e-42f1-b208-e86882d8d026"
      },
      "source": [
        "!rm -rf mmclassification\n",
        "!git clone https://github.com/open-mmlab/mmclassification.git \n",
        "%cd mmclassification\n",
        "!pip install -e ."
      ],
      "execution_count": 3,
      "outputs": [
        {
          "output_type": "stream",
          "text": [
            "Cloning into 'mmclassification'...\n",
            "remote: Enumerating objects: 56, done.\u001b[K\n",
            "remote: Counting objects: 100% (56/56), done.\u001b[K\n",
            "remote: Compressing objects: 100% (44/44), done.\u001b[K\n",
            "remote: Total 1148 (delta 20), reused 20 (delta 12), pack-reused 1092\u001b[K\n",
            "Receiving objects: 100% (1148/1148), 412.74 KiB | 10.32 MiB/s, done.\n",
            "Resolving deltas: 100% (645/645), done.\n",
            "/content/mmclassification\n",
            "Obtaining file:///content/mmclassification\n",
            "Collecting mmcv\n",
            "\u001b[?25l  Downloading https://files.pythonhosted.org/packages/7e/0f/71adf51180d7afabe790482f1c8f1129ab6b6fcc7bc7c010691ab67c936f/mmcv-1.1.1.tar.gz (239kB)\n",
            "\u001b[K     |████████████████████████████████| 245kB 2.7MB/s \n",
            "\u001b[?25hRequirement already satisfied: numpy in /usr/local/lib/python3.6/dist-packages (from mmcls==0.1.0+fef5202) (1.18.5)\n",
            "Collecting addict\n",
            "  Downloading https://files.pythonhosted.org/packages/14/6f/beb258220417c1a0fe11e842f2e012a1be7eeeaa72a1d10ba17a804da367/addict-2.2.1-py3-none-any.whl\n",
            "Requirement already satisfied: pyyaml in /usr/local/lib/python3.6/dist-packages (from mmcv->mmcls==0.1.0+fef5202) (3.13)\n",
            "Collecting yapf\n",
            "\u001b[?25l  Downloading https://files.pythonhosted.org/packages/c1/5d/d84677fe852bc5e091739acda444a9b6700ffc6b11a21b00dd244c8caef0/yapf-0.30.0-py2.py3-none-any.whl (190kB)\n",
            "\u001b[K     |████████████████████████████████| 194kB 8.7MB/s \n",
            "\u001b[?25hRequirement already satisfied: opencv-python>=3 in /usr/local/lib/python3.6/dist-packages (from mmcv->mmcls==0.1.0+fef5202) (4.1.2.30)\n",
            "Building wheels for collected packages: mmcv\n",
            "  Building wheel for mmcv (setup.py) ... \u001b[?25l\u001b[?25hdone\n",
            "  Created wheel for mmcv: filename=mmcv-1.1.1-cp36-cp36m-linux_x86_64.whl size=393321 sha256=98932247974590f9d11134bc8022cf902fe6027ab90517977546f5de3f48f908\n",
            "  Stored in directory: /root/.cache/pip/wheels/af/b2/4b/ab2422df0e82dcaa43835609e2fc01b5f454e8f5346a0cb26b\n",
            "Successfully built mmcv\n",
            "Installing collected packages: addict, yapf, mmcv, mmcls\n",
            "  Running setup.py develop for mmcls\n",
            "Successfully installed addict-2.2.1 mmcls mmcv-1.1.1 yapf-0.30.0\n"
          ],
          "name": "stdout"
        }
      ]
    },
    {
      "cell_type": "code",
      "metadata": {
        "id": "errLm_sg2L3t",
        "colab_type": "code",
        "colab": {
          "base_uri": "https://localhost:8080/",
          "height": 51
        },
        "outputId": "cc2f2160-04b5-40a9-86e7-f7f80ec27691"
      },
      "source": [
        "# Check Pytorch installation\n",
        "import torch, torchvision\n",
        "print(torch.__version__, torch.cuda.is_available())\n",
        "\n",
        "# Check MMSegmentation installation\n",
        "import mmcls\n",
        "print(mmcls.__version__)"
      ],
      "execution_count": 4,
      "outputs": [
        {
          "output_type": "stream",
          "text": [
            "1.5.0+cu101 False\n",
            "0.1.0+fef5202\n"
          ],
          "name": "stdout"
        }
      ]
    },
    {
      "cell_type": "markdown",
      "metadata": {
        "id": "IVXo03NV2bUl",
        "colab_type": "text"
      },
      "source": [
        "## Run inference with pretrained models"
      ]
    },
    {
      "cell_type": "code",
      "metadata": {
        "id": "uqWncJzX2eNf",
        "colab_type": "code",
        "colab": {
          "base_uri": "https://localhost:8080/",
          "height": 224
        },
        "outputId": "560d0e34-42d4-4c37-daa6-02eafcec38de"
      },
      "source": [
        "!mkdir checkpoints\n",
        "!wget https://openmmlab.oss-accelerate.aliyuncs.com/mmclassification/v0/imagenet/resnet50_batch256_20200708-cfb998bf.pth -P checkpoints"
      ],
      "execution_count": 5,
      "outputs": [
        {
          "output_type": "stream",
          "text": [
            "--2020-09-02 03:26:40--  https://openmmlab.oss-accelerate.aliyuncs.com/mmclassification/v0/imagenet/resnet50_batch256_20200708-cfb998bf.pth\n",
            "Resolving openmmlab.oss-accelerate.aliyuncs.com (openmmlab.oss-accelerate.aliyuncs.com)... 47.252.96.35\n",
            "Connecting to openmmlab.oss-accelerate.aliyuncs.com (openmmlab.oss-accelerate.aliyuncs.com)|47.252.96.35|:443... connected.\n",
            "HTTP request sent, awaiting response... 200 OK\n",
            "Length: 102491894 (98M) [application/octet-stream]\n",
            "Saving to: ‘checkpoints/resnet50_batch256_20200708-cfb998bf.pth’\n",
            "\n",
            "resnet50_batch256_2 100%[===================>]  97.74M  8.93MB/s    in 11s     \n",
            "\n",
            "2020-09-02 03:26:51 (8.93 MB/s) - ‘checkpoints/resnet50_batch256_20200708-cfb998bf.pth’ saved [102491894/102491894]\n",
            "\n"
          ],
          "name": "stdout"
        }
      ]
    },
    {
      "cell_type": "code",
      "metadata": {
        "id": "b3ugUsmh2kJU",
        "colab_type": "code",
        "colab": {
          "base_uri": "https://localhost:8080/",
          "height": 34
        },
        "outputId": "e3d86371-0035-4bff-80f5-5c2c58cbd8a5"
      },
      "source": [
        "from mmcls.apis import inference_model, init_model"
      ],
      "execution_count": 6,
    },
    {
      "cell_type": "code",
      "metadata": {
        "id": "SCybczsy344A",
        "colab_type": "code",
        "colab": {}
      },
      "source": [
        "config_file = 'configs/imagenet/resnet50_batch256.py'\n",
        "checkpoint_file = 'checkpoints/resnet50_batch256_20200708-cfb998bf.pth'"
      ],
      "execution_count": 7,
      "outputs": []
    },
    {
      "cell_type": "code",
      "metadata": {
        "id": "fgugeWSu4PMD",
        "colab_type": "code",
        "colab": {
          "base_uri": "https://localhost:8080/",
          "height": 185
        },
        "outputId": "65b0769c-fa7f-4ad9-b36c-61bbd4764881"
      },
      "source": [
        "# build the model from a config file and a checkpoint file\n",
        "model = init_model(config_file, checkpoint_file, device='cuda:0')"
      ],
      "execution_count": 10,
    },
    {
      "cell_type": "code",
      "metadata": {
        "id": "15jkP48P5ldH",
        "colab_type": "code",
        "colab": {
          "base_uri": "https://localhost:8080/",
          "height": 202
        },
        "outputId": "72043d12-1221-4086-8942-398bdbe99da3"
      },
      "source": [
        "# test a single image\n",
        "img = 'demo/demo.JPEG'\n",
        "result = inference_model(model, img)"
      ],
      "execution_count": 11,
    },
    {
      "cell_type": "code",
      "metadata": {
        "id": "tYTEpY4U71Gb",
        "colab_type": "code",
        "colab": {}
      },
      "source": [
        "print(result)"
      ],
      "execution_count": null,
      "outputs": []
    }
  ]
}
