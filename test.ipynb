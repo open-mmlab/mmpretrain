{
 "cells": [
  {
   "cell_type": "code",
   "execution_count": 1,
   "metadata": {
    "collapsed": true,
    "pycharm": {
     "name": "#%%\n"
    }
   },
   "outputs": [],
   "source": [
    "import timm\n",
    "import torch\n",
    "from mmcls.models import build_classifier\n",
    "import collections\n",
    "import vig_pytorch.vig\n",
    "#1"
   ]
  },
  {
   "cell_type": "code",
   "execution_count": 2,
   "outputs": [],
   "source": [
    "def tensor_test(model_src,model_src_state,model_dst,model_dst_state):\n",
    "    model_src.eval()\n",
    "    model_dst.eval()\n",
    "\n",
    "    state_src=torch.load(model_src_state)\n",
    "    model_src.load_state_dict(state_src)\n",
    "\n",
    "    state_dst=torch.load(model_dst_state)\n",
    "    model_dst.load_state_dict(state_dst)\n",
    "\n",
    "    for i in range(10):\n",
    "        input=torch.randn((1,3,224,224))\n",
    "        output_src=model_src(input)\n",
    "        output_dst=model_dst(input)\n",
    "\n",
    "        if output_src==output_dst:\n",
    "            print(f'通过测试{i}')\n",
    "        else:\n",
    "            print(f'测试失败{i}')\n",
    "            break"
   ],
   "metadata": {
    "collapsed": false,
    "pycharm": {
     "name": "#%%\n"
    }
   }
  },
  {
   "cell_type": "code",
   "execution_count": 4,
   "outputs": [
    {
     "name": "stdout",
     "output_type": "stream",
     "text": [
      "dpr [0.0, 0.0, 0.0, 0.0, 0.0, 0.0, 0.0, 0.0, 0.0, 0.0, 0.0, 0.0]\n",
      "num_knn [9, 9, 10, 11, 12, 13, 13, 14, 15, 16, 17, 18]\n"
     ]
    }
   ],
   "source": [
    "# k,n_classes,n_blocks,epsilon,use_stochastic,drop_path,use_dilation,channels,dropout\n",
    "\n",
    "model_cfg = dict(\n",
    "    type='ImageClassifier',\n",
    "    backbone=dict(type='vig', k=9,n_classes=1000,n_blocks=12,epsilon=0.2,use_stochastic=False,drop_path=0,\n",
    "                  use_dilation=True,channels=192,dropout=0),\n",
    "    # neck=None,\n",
    "    head=dict(\n",
    "        type='ClsHead',\n",
    "        loss=dict(type='CrossEntropyLoss', loss_weight=1.0),\n",
    "        topk=(1, 5),\n",
    "    )\n",
    ")\n",
    "model = build_classifier(model_cfg)"
   ],
   "metadata": {
    "collapsed": false,
    "pycharm": {
     "name": "#%%\n"
    }
   }
  },
  {
   "cell_type": "code",
   "execution_count": 7,
   "outputs": [
    {
     "data": {
      "text/plain": "<All keys matched successfully>"
     },
     "execution_count": 7,
     "metadata": {},
     "output_type": "execute_result"
    }
   ],
   "source": [
    "state=torch.load('vig_checkpoint_covert/vig_ti.pth')\n",
    "model.load_state_dict(state)"
   ],
   "metadata": {
    "collapsed": false,
    "pycharm": {
     "name": "#%%\n"
    }
   }
  },
  {
   "cell_type": "code",
   "execution_count": 8,
   "outputs": [],
   "source": [
    "# model_src=timm.create_model('pvig_ti_224_gelu')\n",
    "# tensor_test(model_src,'vig_checkpoint/pvig_ti_78.5.pth',model_dst,'vig_checkpoint_covert/pvig_ti.pth')"
   ],
   "metadata": {
    "collapsed": false,
    "pycharm": {
     "name": "#%%\n"
    }
   }
  },
  {
   "cell_type": "code",
   "execution_count": 3,
   "outputs": [
    {
     "name": "stdout",
     "output_type": "stream",
     "text": [
      "dpr [0.0, 0.0, 0.0, 0.0, 0.0, 0.0, 0.0, 0.0, 0.0, 0.0, 0.0, 0.0]\n",
      "num_knn [9, 9, 10, 11, 12, 13, 13, 14, 15, 16, 17, 18]\n"
     ]
    },
    {
     "data": {
      "text/plain": "<All keys matched successfully>"
     },
     "execution_count": 3,
     "metadata": {},
     "output_type": "execute_result"
    }
   ],
   "source": [
    "# model=timm.create_model('vig_ti_224_gelu')\n",
    "model.eval()\n",
    "state=torch.load('vig_checkpoint/vig_ti_74.5.pth')\n",
    "model.load_state_dict(state)"
   ],
   "metadata": {
    "collapsed": false,
    "pycharm": {
     "name": "#%%\n"
    }
   }
  },
  {
   "cell_type": "code",
   "execution_count": 12,
   "outputs": [
    {
     "name": "stdout",
     "output_type": "stream",
     "text": [
      "<vig_pytorch.pyramid_vig.pvig_ti_224_gelu.<locals>.OptInit object at 0x7fc472c71630>\n",
      "using relative_pos\n",
      "using relative_pos\n",
      "using relative_pos\n",
      "using relative_pos\n",
      "using relative_pos\n",
      "using relative_pos\n",
      "using relative_pos\n",
      "using relative_pos\n",
      "using relative_pos\n",
      "using relative_pos\n",
      "using relative_pos\n",
      "using relative_pos\n",
      "odict_keys(['pos_embed', 'stem.convs.0.weight', 'stem.convs.0.bias', 'stem.convs.1.weight', 'stem.convs.1.bias', 'stem.convs.1.running_mean', 'stem.convs.1.running_var', 'stem.convs.1.num_batches_tracked', 'stem.convs.3.weight', 'stem.convs.3.bias', 'stem.convs.4.weight', 'stem.convs.4.bias', 'stem.convs.4.running_mean', 'stem.convs.4.running_var', 'stem.convs.4.num_batches_tracked', 'stem.convs.6.weight', 'stem.convs.6.bias', 'stem.convs.7.weight', 'stem.convs.7.bias', 'stem.convs.7.running_mean', 'stem.convs.7.running_var', 'stem.convs.7.num_batches_tracked', 'backbone.0.0.relative_pos', 'backbone.0.0.fc1.0.weight', 'backbone.0.0.fc1.0.bias', 'backbone.0.0.fc1.1.weight', 'backbone.0.0.fc1.1.bias', 'backbone.0.0.fc1.1.running_mean', 'backbone.0.0.fc1.1.running_var', 'backbone.0.0.fc1.1.num_batches_tracked', 'backbone.0.0.graph_conv.gconv.nn.0.weight', 'backbone.0.0.graph_conv.gconv.nn.0.bias', 'backbone.0.0.graph_conv.gconv.nn.1.weight', 'backbone.0.0.graph_conv.gconv.nn.1.bias', 'backbone.0.0.graph_conv.gconv.nn.1.running_mean', 'backbone.0.0.graph_conv.gconv.nn.1.running_var', 'backbone.0.0.graph_conv.gconv.nn.1.num_batches_tracked', 'backbone.0.0.fc2.0.weight', 'backbone.0.0.fc2.0.bias', 'backbone.0.0.fc2.1.weight', 'backbone.0.0.fc2.1.bias', 'backbone.0.0.fc2.1.running_mean', 'backbone.0.0.fc2.1.running_var', 'backbone.0.0.fc2.1.num_batches_tracked', 'backbone.0.1.fc1.0.weight', 'backbone.0.1.fc1.0.bias', 'backbone.0.1.fc1.1.weight', 'backbone.0.1.fc1.1.bias', 'backbone.0.1.fc1.1.running_mean', 'backbone.0.1.fc1.1.running_var', 'backbone.0.1.fc1.1.num_batches_tracked', 'backbone.0.1.fc2.0.weight', 'backbone.0.1.fc2.0.bias', 'backbone.0.1.fc2.1.weight', 'backbone.0.1.fc2.1.bias', 'backbone.0.1.fc2.1.running_mean', 'backbone.0.1.fc2.1.running_var', 'backbone.0.1.fc2.1.num_batches_tracked', 'backbone.1.0.relative_pos', 'backbone.1.0.fc1.0.weight', 'backbone.1.0.fc1.0.bias', 'backbone.1.0.fc1.1.weight', 'backbone.1.0.fc1.1.bias', 'backbone.1.0.fc1.1.running_mean', 'backbone.1.0.fc1.1.running_var', 'backbone.1.0.fc1.1.num_batches_tracked', 'backbone.1.0.graph_conv.gconv.nn.0.weight', 'backbone.1.0.graph_conv.gconv.nn.0.bias', 'backbone.1.0.graph_conv.gconv.nn.1.weight', 'backbone.1.0.graph_conv.gconv.nn.1.bias', 'backbone.1.0.graph_conv.gconv.nn.1.running_mean', 'backbone.1.0.graph_conv.gconv.nn.1.running_var', 'backbone.1.0.graph_conv.gconv.nn.1.num_batches_tracked', 'backbone.1.0.fc2.0.weight', 'backbone.1.0.fc2.0.bias', 'backbone.1.0.fc2.1.weight', 'backbone.1.0.fc2.1.bias', 'backbone.1.0.fc2.1.running_mean', 'backbone.1.0.fc2.1.running_var', 'backbone.1.0.fc2.1.num_batches_tracked', 'backbone.1.1.fc1.0.weight', 'backbone.1.1.fc1.0.bias', 'backbone.1.1.fc1.1.weight', 'backbone.1.1.fc1.1.bias', 'backbone.1.1.fc1.1.running_mean', 'backbone.1.1.fc1.1.running_var', 'backbone.1.1.fc1.1.num_batches_tracked', 'backbone.1.1.fc2.0.weight', 'backbone.1.1.fc2.0.bias', 'backbone.1.1.fc2.1.weight', 'backbone.1.1.fc2.1.bias', 'backbone.1.1.fc2.1.running_mean', 'backbone.1.1.fc2.1.running_var', 'backbone.1.1.fc2.1.num_batches_tracked', 'backbone.2.conv.0.weight', 'backbone.2.conv.0.bias', 'backbone.2.conv.1.weight', 'backbone.2.conv.1.bias', 'backbone.2.conv.1.running_mean', 'backbone.2.conv.1.running_var', 'backbone.2.conv.1.num_batches_tracked', 'backbone.3.0.relative_pos', 'backbone.3.0.fc1.0.weight', 'backbone.3.0.fc1.0.bias', 'backbone.3.0.fc1.1.weight', 'backbone.3.0.fc1.1.bias', 'backbone.3.0.fc1.1.running_mean', 'backbone.3.0.fc1.1.running_var', 'backbone.3.0.fc1.1.num_batches_tracked', 'backbone.3.0.graph_conv.gconv.nn.0.weight', 'backbone.3.0.graph_conv.gconv.nn.0.bias', 'backbone.3.0.graph_conv.gconv.nn.1.weight', 'backbone.3.0.graph_conv.gconv.nn.1.bias', 'backbone.3.0.graph_conv.gconv.nn.1.running_mean', 'backbone.3.0.graph_conv.gconv.nn.1.running_var', 'backbone.3.0.graph_conv.gconv.nn.1.num_batches_tracked', 'backbone.3.0.fc2.0.weight', 'backbone.3.0.fc2.0.bias', 'backbone.3.0.fc2.1.weight', 'backbone.3.0.fc2.1.bias', 'backbone.3.0.fc2.1.running_mean', 'backbone.3.0.fc2.1.running_var', 'backbone.3.0.fc2.1.num_batches_tracked', 'backbone.3.1.fc1.0.weight', 'backbone.3.1.fc1.0.bias', 'backbone.3.1.fc1.1.weight', 'backbone.3.1.fc1.1.bias', 'backbone.3.1.fc1.1.running_mean', 'backbone.3.1.fc1.1.running_var', 'backbone.3.1.fc1.1.num_batches_tracked', 'backbone.3.1.fc2.0.weight', 'backbone.3.1.fc2.0.bias', 'backbone.3.1.fc2.1.weight', 'backbone.3.1.fc2.1.bias', 'backbone.3.1.fc2.1.running_mean', 'backbone.3.1.fc2.1.running_var', 'backbone.3.1.fc2.1.num_batches_tracked', 'backbone.4.0.relative_pos', 'backbone.4.0.fc1.0.weight', 'backbone.4.0.fc1.0.bias', 'backbone.4.0.fc1.1.weight', 'backbone.4.0.fc1.1.bias', 'backbone.4.0.fc1.1.running_mean', 'backbone.4.0.fc1.1.running_var', 'backbone.4.0.fc1.1.num_batches_tracked', 'backbone.4.0.graph_conv.gconv.nn.0.weight', 'backbone.4.0.graph_conv.gconv.nn.0.bias', 'backbone.4.0.graph_conv.gconv.nn.1.weight', 'backbone.4.0.graph_conv.gconv.nn.1.bias', 'backbone.4.0.graph_conv.gconv.nn.1.running_mean', 'backbone.4.0.graph_conv.gconv.nn.1.running_var', 'backbone.4.0.graph_conv.gconv.nn.1.num_batches_tracked', 'backbone.4.0.fc2.0.weight', 'backbone.4.0.fc2.0.bias', 'backbone.4.0.fc2.1.weight', 'backbone.4.0.fc2.1.bias', 'backbone.4.0.fc2.1.running_mean', 'backbone.4.0.fc2.1.running_var', 'backbone.4.0.fc2.1.num_batches_tracked', 'backbone.4.1.fc1.0.weight', 'backbone.4.1.fc1.0.bias', 'backbone.4.1.fc1.1.weight', 'backbone.4.1.fc1.1.bias', 'backbone.4.1.fc1.1.running_mean', 'backbone.4.1.fc1.1.running_var', 'backbone.4.1.fc1.1.num_batches_tracked', 'backbone.4.1.fc2.0.weight', 'backbone.4.1.fc2.0.bias', 'backbone.4.1.fc2.1.weight', 'backbone.4.1.fc2.1.bias', 'backbone.4.1.fc2.1.running_mean', 'backbone.4.1.fc2.1.running_var', 'backbone.4.1.fc2.1.num_batches_tracked', 'backbone.5.conv.0.weight', 'backbone.5.conv.0.bias', 'backbone.5.conv.1.weight', 'backbone.5.conv.1.bias', 'backbone.5.conv.1.running_mean', 'backbone.5.conv.1.running_var', 'backbone.5.conv.1.num_batches_tracked', 'backbone.6.0.relative_pos', 'backbone.6.0.fc1.0.weight', 'backbone.6.0.fc1.0.bias', 'backbone.6.0.fc1.1.weight', 'backbone.6.0.fc1.1.bias', 'backbone.6.0.fc1.1.running_mean', 'backbone.6.0.fc1.1.running_var', 'backbone.6.0.fc1.1.num_batches_tracked', 'backbone.6.0.graph_conv.gconv.nn.0.weight', 'backbone.6.0.graph_conv.gconv.nn.0.bias', 'backbone.6.0.graph_conv.gconv.nn.1.weight', 'backbone.6.0.graph_conv.gconv.nn.1.bias', 'backbone.6.0.graph_conv.gconv.nn.1.running_mean', 'backbone.6.0.graph_conv.gconv.nn.1.running_var', 'backbone.6.0.graph_conv.gconv.nn.1.num_batches_tracked', 'backbone.6.0.fc2.0.weight', 'backbone.6.0.fc2.0.bias', 'backbone.6.0.fc2.1.weight', 'backbone.6.0.fc2.1.bias', 'backbone.6.0.fc2.1.running_mean', 'backbone.6.0.fc2.1.running_var', 'backbone.6.0.fc2.1.num_batches_tracked', 'backbone.6.1.fc1.0.weight', 'backbone.6.1.fc1.0.bias', 'backbone.6.1.fc1.1.weight', 'backbone.6.1.fc1.1.bias', 'backbone.6.1.fc1.1.running_mean', 'backbone.6.1.fc1.1.running_var', 'backbone.6.1.fc1.1.num_batches_tracked', 'backbone.6.1.fc2.0.weight', 'backbone.6.1.fc2.0.bias', 'backbone.6.1.fc2.1.weight', 'backbone.6.1.fc2.1.bias', 'backbone.6.1.fc2.1.running_mean', 'backbone.6.1.fc2.1.running_var', 'backbone.6.1.fc2.1.num_batches_tracked', 'backbone.7.0.relative_pos', 'backbone.7.0.fc1.0.weight', 'backbone.7.0.fc1.0.bias', 'backbone.7.0.fc1.1.weight', 'backbone.7.0.fc1.1.bias', 'backbone.7.0.fc1.1.running_mean', 'backbone.7.0.fc1.1.running_var', 'backbone.7.0.fc1.1.num_batches_tracked', 'backbone.7.0.graph_conv.gconv.nn.0.weight', 'backbone.7.0.graph_conv.gconv.nn.0.bias', 'backbone.7.0.graph_conv.gconv.nn.1.weight', 'backbone.7.0.graph_conv.gconv.nn.1.bias', 'backbone.7.0.graph_conv.gconv.nn.1.running_mean', 'backbone.7.0.graph_conv.gconv.nn.1.running_var', 'backbone.7.0.graph_conv.gconv.nn.1.num_batches_tracked', 'backbone.7.0.fc2.0.weight', 'backbone.7.0.fc2.0.bias', 'backbone.7.0.fc2.1.weight', 'backbone.7.0.fc2.1.bias', 'backbone.7.0.fc2.1.running_mean', 'backbone.7.0.fc2.1.running_var', 'backbone.7.0.fc2.1.num_batches_tracked', 'backbone.7.1.fc1.0.weight', 'backbone.7.1.fc1.0.bias', 'backbone.7.1.fc1.1.weight', 'backbone.7.1.fc1.1.bias', 'backbone.7.1.fc1.1.running_mean', 'backbone.7.1.fc1.1.running_var', 'backbone.7.1.fc1.1.num_batches_tracked', 'backbone.7.1.fc2.0.weight', 'backbone.7.1.fc2.0.bias', 'backbone.7.1.fc2.1.weight', 'backbone.7.1.fc2.1.bias', 'backbone.7.1.fc2.1.running_mean', 'backbone.7.1.fc2.1.running_var', 'backbone.7.1.fc2.1.num_batches_tracked', 'backbone.8.0.relative_pos', 'backbone.8.0.fc1.0.weight', 'backbone.8.0.fc1.0.bias', 'backbone.8.0.fc1.1.weight', 'backbone.8.0.fc1.1.bias', 'backbone.8.0.fc1.1.running_mean', 'backbone.8.0.fc1.1.running_var', 'backbone.8.0.fc1.1.num_batches_tracked', 'backbone.8.0.graph_conv.gconv.nn.0.weight', 'backbone.8.0.graph_conv.gconv.nn.0.bias', 'backbone.8.0.graph_conv.gconv.nn.1.weight', 'backbone.8.0.graph_conv.gconv.nn.1.bias', 'backbone.8.0.graph_conv.gconv.nn.1.running_mean', 'backbone.8.0.graph_conv.gconv.nn.1.running_var', 'backbone.8.0.graph_conv.gconv.nn.1.num_batches_tracked', 'backbone.8.0.fc2.0.weight', 'backbone.8.0.fc2.0.bias', 'backbone.8.0.fc2.1.weight', 'backbone.8.0.fc2.1.bias', 'backbone.8.0.fc2.1.running_mean', 'backbone.8.0.fc2.1.running_var', 'backbone.8.0.fc2.1.num_batches_tracked', 'backbone.8.1.fc1.0.weight', 'backbone.8.1.fc1.0.bias', 'backbone.8.1.fc1.1.weight', 'backbone.8.1.fc1.1.bias', 'backbone.8.1.fc1.1.running_mean', 'backbone.8.1.fc1.1.running_var', 'backbone.8.1.fc1.1.num_batches_tracked', 'backbone.8.1.fc2.0.weight', 'backbone.8.1.fc2.0.bias', 'backbone.8.1.fc2.1.weight', 'backbone.8.1.fc2.1.bias', 'backbone.8.1.fc2.1.running_mean', 'backbone.8.1.fc2.1.running_var', 'backbone.8.1.fc2.1.num_batches_tracked', 'backbone.9.0.relative_pos', 'backbone.9.0.fc1.0.weight', 'backbone.9.0.fc1.0.bias', 'backbone.9.0.fc1.1.weight', 'backbone.9.0.fc1.1.bias', 'backbone.9.0.fc1.1.running_mean', 'backbone.9.0.fc1.1.running_var', 'backbone.9.0.fc1.1.num_batches_tracked', 'backbone.9.0.graph_conv.gconv.nn.0.weight', 'backbone.9.0.graph_conv.gconv.nn.0.bias', 'backbone.9.0.graph_conv.gconv.nn.1.weight', 'backbone.9.0.graph_conv.gconv.nn.1.bias', 'backbone.9.0.graph_conv.gconv.nn.1.running_mean', 'backbone.9.0.graph_conv.gconv.nn.1.running_var', 'backbone.9.0.graph_conv.gconv.nn.1.num_batches_tracked', 'backbone.9.0.fc2.0.weight', 'backbone.9.0.fc2.0.bias', 'backbone.9.0.fc2.1.weight', 'backbone.9.0.fc2.1.bias', 'backbone.9.0.fc2.1.running_mean', 'backbone.9.0.fc2.1.running_var', 'backbone.9.0.fc2.1.num_batches_tracked', 'backbone.9.1.fc1.0.weight', 'backbone.9.1.fc1.0.bias', 'backbone.9.1.fc1.1.weight', 'backbone.9.1.fc1.1.bias', 'backbone.9.1.fc1.1.running_mean', 'backbone.9.1.fc1.1.running_var', 'backbone.9.1.fc1.1.num_batches_tracked', 'backbone.9.1.fc2.0.weight', 'backbone.9.1.fc2.0.bias', 'backbone.9.1.fc2.1.weight', 'backbone.9.1.fc2.1.bias', 'backbone.9.1.fc2.1.running_mean', 'backbone.9.1.fc2.1.running_var', 'backbone.9.1.fc2.1.num_batches_tracked', 'backbone.10.0.relative_pos', 'backbone.10.0.fc1.0.weight', 'backbone.10.0.fc1.0.bias', 'backbone.10.0.fc1.1.weight', 'backbone.10.0.fc1.1.bias', 'backbone.10.0.fc1.1.running_mean', 'backbone.10.0.fc1.1.running_var', 'backbone.10.0.fc1.1.num_batches_tracked', 'backbone.10.0.graph_conv.gconv.nn.0.weight', 'backbone.10.0.graph_conv.gconv.nn.0.bias', 'backbone.10.0.graph_conv.gconv.nn.1.weight', 'backbone.10.0.graph_conv.gconv.nn.1.bias', 'backbone.10.0.graph_conv.gconv.nn.1.running_mean', 'backbone.10.0.graph_conv.gconv.nn.1.running_var', 'backbone.10.0.graph_conv.gconv.nn.1.num_batches_tracked', 'backbone.10.0.fc2.0.weight', 'backbone.10.0.fc2.0.bias', 'backbone.10.0.fc2.1.weight', 'backbone.10.0.fc2.1.bias', 'backbone.10.0.fc2.1.running_mean', 'backbone.10.0.fc2.1.running_var', 'backbone.10.0.fc2.1.num_batches_tracked', 'backbone.10.1.fc1.0.weight', 'backbone.10.1.fc1.0.bias', 'backbone.10.1.fc1.1.weight', 'backbone.10.1.fc1.1.bias', 'backbone.10.1.fc1.1.running_mean', 'backbone.10.1.fc1.1.running_var', 'backbone.10.1.fc1.1.num_batches_tracked', 'backbone.10.1.fc2.0.weight', 'backbone.10.1.fc2.0.bias', 'backbone.10.1.fc2.1.weight', 'backbone.10.1.fc2.1.bias', 'backbone.10.1.fc2.1.running_mean', 'backbone.10.1.fc2.1.running_var', 'backbone.10.1.fc2.1.num_batches_tracked', 'backbone.11.0.relative_pos', 'backbone.11.0.fc1.0.weight', 'backbone.11.0.fc1.0.bias', 'backbone.11.0.fc1.1.weight', 'backbone.11.0.fc1.1.bias', 'backbone.11.0.fc1.1.running_mean', 'backbone.11.0.fc1.1.running_var', 'backbone.11.0.fc1.1.num_batches_tracked', 'backbone.11.0.graph_conv.gconv.nn.0.weight', 'backbone.11.0.graph_conv.gconv.nn.0.bias', 'backbone.11.0.graph_conv.gconv.nn.1.weight', 'backbone.11.0.graph_conv.gconv.nn.1.bias', 'backbone.11.0.graph_conv.gconv.nn.1.running_mean', 'backbone.11.0.graph_conv.gconv.nn.1.running_var', 'backbone.11.0.graph_conv.gconv.nn.1.num_batches_tracked', 'backbone.11.0.fc2.0.weight', 'backbone.11.0.fc2.0.bias', 'backbone.11.0.fc2.1.weight', 'backbone.11.0.fc2.1.bias', 'backbone.11.0.fc2.1.running_mean', 'backbone.11.0.fc2.1.running_var', 'backbone.11.0.fc2.1.num_batches_tracked', 'backbone.11.1.fc1.0.weight', 'backbone.11.1.fc1.0.bias', 'backbone.11.1.fc1.1.weight', 'backbone.11.1.fc1.1.bias', 'backbone.11.1.fc1.1.running_mean', 'backbone.11.1.fc1.1.running_var', 'backbone.11.1.fc1.1.num_batches_tracked', 'backbone.11.1.fc2.0.weight', 'backbone.11.1.fc2.0.bias', 'backbone.11.1.fc2.1.weight', 'backbone.11.1.fc2.1.bias', 'backbone.11.1.fc2.1.running_mean', 'backbone.11.1.fc2.1.running_var', 'backbone.11.1.fc2.1.num_batches_tracked', 'backbone.12.conv.0.weight', 'backbone.12.conv.0.bias', 'backbone.12.conv.1.weight', 'backbone.12.conv.1.bias', 'backbone.12.conv.1.running_mean', 'backbone.12.conv.1.running_var', 'backbone.12.conv.1.num_batches_tracked', 'backbone.13.0.relative_pos', 'backbone.13.0.fc1.0.weight', 'backbone.13.0.fc1.0.bias', 'backbone.13.0.fc1.1.weight', 'backbone.13.0.fc1.1.bias', 'backbone.13.0.fc1.1.running_mean', 'backbone.13.0.fc1.1.running_var', 'backbone.13.0.fc1.1.num_batches_tracked', 'backbone.13.0.graph_conv.gconv.nn.0.weight', 'backbone.13.0.graph_conv.gconv.nn.0.bias', 'backbone.13.0.graph_conv.gconv.nn.1.weight', 'backbone.13.0.graph_conv.gconv.nn.1.bias', 'backbone.13.0.graph_conv.gconv.nn.1.running_mean', 'backbone.13.0.graph_conv.gconv.nn.1.running_var', 'backbone.13.0.graph_conv.gconv.nn.1.num_batches_tracked', 'backbone.13.0.fc2.0.weight', 'backbone.13.0.fc2.0.bias', 'backbone.13.0.fc2.1.weight', 'backbone.13.0.fc2.1.bias', 'backbone.13.0.fc2.1.running_mean', 'backbone.13.0.fc2.1.running_var', 'backbone.13.0.fc2.1.num_batches_tracked', 'backbone.13.1.fc1.0.weight', 'backbone.13.1.fc1.0.bias', 'backbone.13.1.fc1.1.weight', 'backbone.13.1.fc1.1.bias', 'backbone.13.1.fc1.1.running_mean', 'backbone.13.1.fc1.1.running_var', 'backbone.13.1.fc1.1.num_batches_tracked', 'backbone.13.1.fc2.0.weight', 'backbone.13.1.fc2.0.bias', 'backbone.13.1.fc2.1.weight', 'backbone.13.1.fc2.1.bias', 'backbone.13.1.fc2.1.running_mean', 'backbone.13.1.fc2.1.running_var', 'backbone.13.1.fc2.1.num_batches_tracked', 'backbone.14.0.relative_pos', 'backbone.14.0.fc1.0.weight', 'backbone.14.0.fc1.0.bias', 'backbone.14.0.fc1.1.weight', 'backbone.14.0.fc1.1.bias', 'backbone.14.0.fc1.1.running_mean', 'backbone.14.0.fc1.1.running_var', 'backbone.14.0.fc1.1.num_batches_tracked', 'backbone.14.0.graph_conv.gconv.nn.0.weight', 'backbone.14.0.graph_conv.gconv.nn.0.bias', 'backbone.14.0.graph_conv.gconv.nn.1.weight', 'backbone.14.0.graph_conv.gconv.nn.1.bias', 'backbone.14.0.graph_conv.gconv.nn.1.running_mean', 'backbone.14.0.graph_conv.gconv.nn.1.running_var', 'backbone.14.0.graph_conv.gconv.nn.1.num_batches_tracked', 'backbone.14.0.fc2.0.weight', 'backbone.14.0.fc2.0.bias', 'backbone.14.0.fc2.1.weight', 'backbone.14.0.fc2.1.bias', 'backbone.14.0.fc2.1.running_mean', 'backbone.14.0.fc2.1.running_var', 'backbone.14.0.fc2.1.num_batches_tracked', 'backbone.14.1.fc1.0.weight', 'backbone.14.1.fc1.0.bias', 'backbone.14.1.fc1.1.weight', 'backbone.14.1.fc1.1.bias', 'backbone.14.1.fc1.1.running_mean', 'backbone.14.1.fc1.1.running_var', 'backbone.14.1.fc1.1.num_batches_tracked', 'backbone.14.1.fc2.0.weight', 'backbone.14.1.fc2.0.bias', 'backbone.14.1.fc2.1.weight', 'backbone.14.1.fc2.1.bias', 'backbone.14.1.fc2.1.running_mean', 'backbone.14.1.fc2.1.running_var', 'backbone.14.1.fc2.1.num_batches_tracked', 'prediction.0.weight', 'prediction.0.bias', 'prediction.1.weight', 'prediction.1.bias', 'prediction.1.running_mean', 'prediction.1.running_var', 'prediction.1.num_batches_tracked', 'prediction.4.weight', 'prediction.4.bias'])\n",
      "------------------------------\n",
      "odict_keys(['pos_embed', 'stem.convs.0.weight', 'stem.convs.0.bias', 'stem.convs.1.weight', 'stem.convs.1.bias', 'stem.convs.1.running_mean', 'stem.convs.1.running_var', 'stem.convs.1.num_batches_tracked', 'stem.convs.3.weight', 'stem.convs.3.bias', 'stem.convs.4.weight', 'stem.convs.4.bias', 'stem.convs.4.running_mean', 'stem.convs.4.running_var', 'stem.convs.4.num_batches_tracked', 'stem.convs.6.weight', 'stem.convs.6.bias', 'stem.convs.7.weight', 'stem.convs.7.bias', 'stem.convs.7.running_mean', 'stem.convs.7.running_var', 'stem.convs.7.num_batches_tracked', 'stem.convs.9.weight', 'stem.convs.9.bias', 'stem.convs.10.weight', 'stem.convs.10.bias', 'stem.convs.10.running_mean', 'stem.convs.10.running_var', 'stem.convs.10.num_batches_tracked', 'stem.convs.12.weight', 'stem.convs.12.bias', 'stem.convs.13.weight', 'stem.convs.13.bias', 'stem.convs.13.running_mean', 'stem.convs.13.running_var', 'stem.convs.13.num_batches_tracked', 'backbone.0.0.fc1.0.weight', 'backbone.0.0.fc1.0.bias', 'backbone.0.0.fc1.1.weight', 'backbone.0.0.fc1.1.bias', 'backbone.0.0.fc1.1.running_mean', 'backbone.0.0.fc1.1.running_var', 'backbone.0.0.fc1.1.num_batches_tracked', 'backbone.0.0.graph_conv.gconv.nn.0.weight', 'backbone.0.0.graph_conv.gconv.nn.0.bias', 'backbone.0.0.graph_conv.gconv.nn.1.weight', 'backbone.0.0.graph_conv.gconv.nn.1.bias', 'backbone.0.0.graph_conv.gconv.nn.1.running_mean', 'backbone.0.0.graph_conv.gconv.nn.1.running_var', 'backbone.0.0.graph_conv.gconv.nn.1.num_batches_tracked', 'backbone.0.0.fc2.0.weight', 'backbone.0.0.fc2.0.bias', 'backbone.0.0.fc2.1.weight', 'backbone.0.0.fc2.1.bias', 'backbone.0.0.fc2.1.running_mean', 'backbone.0.0.fc2.1.running_var', 'backbone.0.0.fc2.1.num_batches_tracked', 'backbone.0.1.fc1.0.weight', 'backbone.0.1.fc1.0.bias', 'backbone.0.1.fc1.1.weight', 'backbone.0.1.fc1.1.bias', 'backbone.0.1.fc1.1.running_mean', 'backbone.0.1.fc1.1.running_var', 'backbone.0.1.fc1.1.num_batches_tracked', 'backbone.0.1.fc2.0.weight', 'backbone.0.1.fc2.0.bias', 'backbone.0.1.fc2.1.weight', 'backbone.0.1.fc2.1.bias', 'backbone.0.1.fc2.1.running_mean', 'backbone.0.1.fc2.1.running_var', 'backbone.0.1.fc2.1.num_batches_tracked', 'backbone.1.0.fc1.0.weight', 'backbone.1.0.fc1.0.bias', 'backbone.1.0.fc1.1.weight', 'backbone.1.0.fc1.1.bias', 'backbone.1.0.fc1.1.running_mean', 'backbone.1.0.fc1.1.running_var', 'backbone.1.0.fc1.1.num_batches_tracked', 'backbone.1.0.graph_conv.gconv.nn.0.weight', 'backbone.1.0.graph_conv.gconv.nn.0.bias', 'backbone.1.0.graph_conv.gconv.nn.1.weight', 'backbone.1.0.graph_conv.gconv.nn.1.bias', 'backbone.1.0.graph_conv.gconv.nn.1.running_mean', 'backbone.1.0.graph_conv.gconv.nn.1.running_var', 'backbone.1.0.graph_conv.gconv.nn.1.num_batches_tracked', 'backbone.1.0.fc2.0.weight', 'backbone.1.0.fc2.0.bias', 'backbone.1.0.fc2.1.weight', 'backbone.1.0.fc2.1.bias', 'backbone.1.0.fc2.1.running_mean', 'backbone.1.0.fc2.1.running_var', 'backbone.1.0.fc2.1.num_batches_tracked', 'backbone.1.1.fc1.0.weight', 'backbone.1.1.fc1.0.bias', 'backbone.1.1.fc1.1.weight', 'backbone.1.1.fc1.1.bias', 'backbone.1.1.fc1.1.running_mean', 'backbone.1.1.fc1.1.running_var', 'backbone.1.1.fc1.1.num_batches_tracked', 'backbone.1.1.fc2.0.weight', 'backbone.1.1.fc2.0.bias', 'backbone.1.1.fc2.1.weight', 'backbone.1.1.fc2.1.bias', 'backbone.1.1.fc2.1.running_mean', 'backbone.1.1.fc2.1.running_var', 'backbone.1.1.fc2.1.num_batches_tracked', 'backbone.2.0.fc1.0.weight', 'backbone.2.0.fc1.0.bias', 'backbone.2.0.fc1.1.weight', 'backbone.2.0.fc1.1.bias', 'backbone.2.0.fc1.1.running_mean', 'backbone.2.0.fc1.1.running_var', 'backbone.2.0.fc1.1.num_batches_tracked', 'backbone.2.0.graph_conv.gconv.nn.0.weight', 'backbone.2.0.graph_conv.gconv.nn.0.bias', 'backbone.2.0.graph_conv.gconv.nn.1.weight', 'backbone.2.0.graph_conv.gconv.nn.1.bias', 'backbone.2.0.graph_conv.gconv.nn.1.running_mean', 'backbone.2.0.graph_conv.gconv.nn.1.running_var', 'backbone.2.0.graph_conv.gconv.nn.1.num_batches_tracked', 'backbone.2.0.fc2.0.weight', 'backbone.2.0.fc2.0.bias', 'backbone.2.0.fc2.1.weight', 'backbone.2.0.fc2.1.bias', 'backbone.2.0.fc2.1.running_mean', 'backbone.2.0.fc2.1.running_var', 'backbone.2.0.fc2.1.num_batches_tracked', 'backbone.2.1.fc1.0.weight', 'backbone.2.1.fc1.0.bias', 'backbone.2.1.fc1.1.weight', 'backbone.2.1.fc1.1.bias', 'backbone.2.1.fc1.1.running_mean', 'backbone.2.1.fc1.1.running_var', 'backbone.2.1.fc1.1.num_batches_tracked', 'backbone.2.1.fc2.0.weight', 'backbone.2.1.fc2.0.bias', 'backbone.2.1.fc2.1.weight', 'backbone.2.1.fc2.1.bias', 'backbone.2.1.fc2.1.running_mean', 'backbone.2.1.fc2.1.running_var', 'backbone.2.1.fc2.1.num_batches_tracked', 'backbone.3.0.fc1.0.weight', 'backbone.3.0.fc1.0.bias', 'backbone.3.0.fc1.1.weight', 'backbone.3.0.fc1.1.bias', 'backbone.3.0.fc1.1.running_mean', 'backbone.3.0.fc1.1.running_var', 'backbone.3.0.fc1.1.num_batches_tracked', 'backbone.3.0.graph_conv.gconv.nn.0.weight', 'backbone.3.0.graph_conv.gconv.nn.0.bias', 'backbone.3.0.graph_conv.gconv.nn.1.weight', 'backbone.3.0.graph_conv.gconv.nn.1.bias', 'backbone.3.0.graph_conv.gconv.nn.1.running_mean', 'backbone.3.0.graph_conv.gconv.nn.1.running_var', 'backbone.3.0.graph_conv.gconv.nn.1.num_batches_tracked', 'backbone.3.0.fc2.0.weight', 'backbone.3.0.fc2.0.bias', 'backbone.3.0.fc2.1.weight', 'backbone.3.0.fc2.1.bias', 'backbone.3.0.fc2.1.running_mean', 'backbone.3.0.fc2.1.running_var', 'backbone.3.0.fc2.1.num_batches_tracked', 'backbone.3.1.fc1.0.weight', 'backbone.3.1.fc1.0.bias', 'backbone.3.1.fc1.1.weight', 'backbone.3.1.fc1.1.bias', 'backbone.3.1.fc1.1.running_mean', 'backbone.3.1.fc1.1.running_var', 'backbone.3.1.fc1.1.num_batches_tracked', 'backbone.3.1.fc2.0.weight', 'backbone.3.1.fc2.0.bias', 'backbone.3.1.fc2.1.weight', 'backbone.3.1.fc2.1.bias', 'backbone.3.1.fc2.1.running_mean', 'backbone.3.1.fc2.1.running_var', 'backbone.3.1.fc2.1.num_batches_tracked', 'backbone.4.0.fc1.0.weight', 'backbone.4.0.fc1.0.bias', 'backbone.4.0.fc1.1.weight', 'backbone.4.0.fc1.1.bias', 'backbone.4.0.fc1.1.running_mean', 'backbone.4.0.fc1.1.running_var', 'backbone.4.0.fc1.1.num_batches_tracked', 'backbone.4.0.graph_conv.gconv.nn.0.weight', 'backbone.4.0.graph_conv.gconv.nn.0.bias', 'backbone.4.0.graph_conv.gconv.nn.1.weight', 'backbone.4.0.graph_conv.gconv.nn.1.bias', 'backbone.4.0.graph_conv.gconv.nn.1.running_mean', 'backbone.4.0.graph_conv.gconv.nn.1.running_var', 'backbone.4.0.graph_conv.gconv.nn.1.num_batches_tracked', 'backbone.4.0.fc2.0.weight', 'backbone.4.0.fc2.0.bias', 'backbone.4.0.fc2.1.weight', 'backbone.4.0.fc2.1.bias', 'backbone.4.0.fc2.1.running_mean', 'backbone.4.0.fc2.1.running_var', 'backbone.4.0.fc2.1.num_batches_tracked', 'backbone.4.1.fc1.0.weight', 'backbone.4.1.fc1.0.bias', 'backbone.4.1.fc1.1.weight', 'backbone.4.1.fc1.1.bias', 'backbone.4.1.fc1.1.running_mean', 'backbone.4.1.fc1.1.running_var', 'backbone.4.1.fc1.1.num_batches_tracked', 'backbone.4.1.fc2.0.weight', 'backbone.4.1.fc2.0.bias', 'backbone.4.1.fc2.1.weight', 'backbone.4.1.fc2.1.bias', 'backbone.4.1.fc2.1.running_mean', 'backbone.4.1.fc2.1.running_var', 'backbone.4.1.fc2.1.num_batches_tracked', 'backbone.5.0.fc1.0.weight', 'backbone.5.0.fc1.0.bias', 'backbone.5.0.fc1.1.weight', 'backbone.5.0.fc1.1.bias', 'backbone.5.0.fc1.1.running_mean', 'backbone.5.0.fc1.1.running_var', 'backbone.5.0.fc1.1.num_batches_tracked', 'backbone.5.0.graph_conv.gconv.nn.0.weight', 'backbone.5.0.graph_conv.gconv.nn.0.bias', 'backbone.5.0.graph_conv.gconv.nn.1.weight', 'backbone.5.0.graph_conv.gconv.nn.1.bias', 'backbone.5.0.graph_conv.gconv.nn.1.running_mean', 'backbone.5.0.graph_conv.gconv.nn.1.running_var', 'backbone.5.0.graph_conv.gconv.nn.1.num_batches_tracked', 'backbone.5.0.fc2.0.weight', 'backbone.5.0.fc2.0.bias', 'backbone.5.0.fc2.1.weight', 'backbone.5.0.fc2.1.bias', 'backbone.5.0.fc2.1.running_mean', 'backbone.5.0.fc2.1.running_var', 'backbone.5.0.fc2.1.num_batches_tracked', 'backbone.5.1.fc1.0.weight', 'backbone.5.1.fc1.0.bias', 'backbone.5.1.fc1.1.weight', 'backbone.5.1.fc1.1.bias', 'backbone.5.1.fc1.1.running_mean', 'backbone.5.1.fc1.1.running_var', 'backbone.5.1.fc1.1.num_batches_tracked', 'backbone.5.1.fc2.0.weight', 'backbone.5.1.fc2.0.bias', 'backbone.5.1.fc2.1.weight', 'backbone.5.1.fc2.1.bias', 'backbone.5.1.fc2.1.running_mean', 'backbone.5.1.fc2.1.running_var', 'backbone.5.1.fc2.1.num_batches_tracked', 'backbone.6.0.fc1.0.weight', 'backbone.6.0.fc1.0.bias', 'backbone.6.0.fc1.1.weight', 'backbone.6.0.fc1.1.bias', 'backbone.6.0.fc1.1.running_mean', 'backbone.6.0.fc1.1.running_var', 'backbone.6.0.fc1.1.num_batches_tracked', 'backbone.6.0.graph_conv.gconv.nn.0.weight', 'backbone.6.0.graph_conv.gconv.nn.0.bias', 'backbone.6.0.graph_conv.gconv.nn.1.weight', 'backbone.6.0.graph_conv.gconv.nn.1.bias', 'backbone.6.0.graph_conv.gconv.nn.1.running_mean', 'backbone.6.0.graph_conv.gconv.nn.1.running_var', 'backbone.6.0.graph_conv.gconv.nn.1.num_batches_tracked', 'backbone.6.0.fc2.0.weight', 'backbone.6.0.fc2.0.bias', 'backbone.6.0.fc2.1.weight', 'backbone.6.0.fc2.1.bias', 'backbone.6.0.fc2.1.running_mean', 'backbone.6.0.fc2.1.running_var', 'backbone.6.0.fc2.1.num_batches_tracked', 'backbone.6.1.fc1.0.weight', 'backbone.6.1.fc1.0.bias', 'backbone.6.1.fc1.1.weight', 'backbone.6.1.fc1.1.bias', 'backbone.6.1.fc1.1.running_mean', 'backbone.6.1.fc1.1.running_var', 'backbone.6.1.fc1.1.num_batches_tracked', 'backbone.6.1.fc2.0.weight', 'backbone.6.1.fc2.0.bias', 'backbone.6.1.fc2.1.weight', 'backbone.6.1.fc2.1.bias', 'backbone.6.1.fc2.1.running_mean', 'backbone.6.1.fc2.1.running_var', 'backbone.6.1.fc2.1.num_batches_tracked', 'backbone.7.0.fc1.0.weight', 'backbone.7.0.fc1.0.bias', 'backbone.7.0.fc1.1.weight', 'backbone.7.0.fc1.1.bias', 'backbone.7.0.fc1.1.running_mean', 'backbone.7.0.fc1.1.running_var', 'backbone.7.0.fc1.1.num_batches_tracked', 'backbone.7.0.graph_conv.gconv.nn.0.weight', 'backbone.7.0.graph_conv.gconv.nn.0.bias', 'backbone.7.0.graph_conv.gconv.nn.1.weight', 'backbone.7.0.graph_conv.gconv.nn.1.bias', 'backbone.7.0.graph_conv.gconv.nn.1.running_mean', 'backbone.7.0.graph_conv.gconv.nn.1.running_var', 'backbone.7.0.graph_conv.gconv.nn.1.num_batches_tracked', 'backbone.7.0.fc2.0.weight', 'backbone.7.0.fc2.0.bias', 'backbone.7.0.fc2.1.weight', 'backbone.7.0.fc2.1.bias', 'backbone.7.0.fc2.1.running_mean', 'backbone.7.0.fc2.1.running_var', 'backbone.7.0.fc2.1.num_batches_tracked', 'backbone.7.1.fc1.0.weight', 'backbone.7.1.fc1.0.bias', 'backbone.7.1.fc1.1.weight', 'backbone.7.1.fc1.1.bias', 'backbone.7.1.fc1.1.running_mean', 'backbone.7.1.fc1.1.running_var', 'backbone.7.1.fc1.1.num_batches_tracked', 'backbone.7.1.fc2.0.weight', 'backbone.7.1.fc2.0.bias', 'backbone.7.1.fc2.1.weight', 'backbone.7.1.fc2.1.bias', 'backbone.7.1.fc2.1.running_mean', 'backbone.7.1.fc2.1.running_var', 'backbone.7.1.fc2.1.num_batches_tracked', 'backbone.8.0.fc1.0.weight', 'backbone.8.0.fc1.0.bias', 'backbone.8.0.fc1.1.weight', 'backbone.8.0.fc1.1.bias', 'backbone.8.0.fc1.1.running_mean', 'backbone.8.0.fc1.1.running_var', 'backbone.8.0.fc1.1.num_batches_tracked', 'backbone.8.0.graph_conv.gconv.nn.0.weight', 'backbone.8.0.graph_conv.gconv.nn.0.bias', 'backbone.8.0.graph_conv.gconv.nn.1.weight', 'backbone.8.0.graph_conv.gconv.nn.1.bias', 'backbone.8.0.graph_conv.gconv.nn.1.running_mean', 'backbone.8.0.graph_conv.gconv.nn.1.running_var', 'backbone.8.0.graph_conv.gconv.nn.1.num_batches_tracked', 'backbone.8.0.fc2.0.weight', 'backbone.8.0.fc2.0.bias', 'backbone.8.0.fc2.1.weight', 'backbone.8.0.fc2.1.bias', 'backbone.8.0.fc2.1.running_mean', 'backbone.8.0.fc2.1.running_var', 'backbone.8.0.fc2.1.num_batches_tracked', 'backbone.8.1.fc1.0.weight', 'backbone.8.1.fc1.0.bias', 'backbone.8.1.fc1.1.weight', 'backbone.8.1.fc1.1.bias', 'backbone.8.1.fc1.1.running_mean', 'backbone.8.1.fc1.1.running_var', 'backbone.8.1.fc1.1.num_batches_tracked', 'backbone.8.1.fc2.0.weight', 'backbone.8.1.fc2.0.bias', 'backbone.8.1.fc2.1.weight', 'backbone.8.1.fc2.1.bias', 'backbone.8.1.fc2.1.running_mean', 'backbone.8.1.fc2.1.running_var', 'backbone.8.1.fc2.1.num_batches_tracked', 'backbone.9.0.fc1.0.weight', 'backbone.9.0.fc1.0.bias', 'backbone.9.0.fc1.1.weight', 'backbone.9.0.fc1.1.bias', 'backbone.9.0.fc1.1.running_mean', 'backbone.9.0.fc1.1.running_var', 'backbone.9.0.fc1.1.num_batches_tracked', 'backbone.9.0.graph_conv.gconv.nn.0.weight', 'backbone.9.0.graph_conv.gconv.nn.0.bias', 'backbone.9.0.graph_conv.gconv.nn.1.weight', 'backbone.9.0.graph_conv.gconv.nn.1.bias', 'backbone.9.0.graph_conv.gconv.nn.1.running_mean', 'backbone.9.0.graph_conv.gconv.nn.1.running_var', 'backbone.9.0.graph_conv.gconv.nn.1.num_batches_tracked', 'backbone.9.0.fc2.0.weight', 'backbone.9.0.fc2.0.bias', 'backbone.9.0.fc2.1.weight', 'backbone.9.0.fc2.1.bias', 'backbone.9.0.fc2.1.running_mean', 'backbone.9.0.fc2.1.running_var', 'backbone.9.0.fc2.1.num_batches_tracked', 'backbone.9.1.fc1.0.weight', 'backbone.9.1.fc1.0.bias', 'backbone.9.1.fc1.1.weight', 'backbone.9.1.fc1.1.bias', 'backbone.9.1.fc1.1.running_mean', 'backbone.9.1.fc1.1.running_var', 'backbone.9.1.fc1.1.num_batches_tracked', 'backbone.9.1.fc2.0.weight', 'backbone.9.1.fc2.0.bias', 'backbone.9.1.fc2.1.weight', 'backbone.9.1.fc2.1.bias', 'backbone.9.1.fc2.1.running_mean', 'backbone.9.1.fc2.1.running_var', 'backbone.9.1.fc2.1.num_batches_tracked', 'backbone.10.0.fc1.0.weight', 'backbone.10.0.fc1.0.bias', 'backbone.10.0.fc1.1.weight', 'backbone.10.0.fc1.1.bias', 'backbone.10.0.fc1.1.running_mean', 'backbone.10.0.fc1.1.running_var', 'backbone.10.0.fc1.1.num_batches_tracked', 'backbone.10.0.graph_conv.gconv.nn.0.weight', 'backbone.10.0.graph_conv.gconv.nn.0.bias', 'backbone.10.0.graph_conv.gconv.nn.1.weight', 'backbone.10.0.graph_conv.gconv.nn.1.bias', 'backbone.10.0.graph_conv.gconv.nn.1.running_mean', 'backbone.10.0.graph_conv.gconv.nn.1.running_var', 'backbone.10.0.graph_conv.gconv.nn.1.num_batches_tracked', 'backbone.10.0.fc2.0.weight', 'backbone.10.0.fc2.0.bias', 'backbone.10.0.fc2.1.weight', 'backbone.10.0.fc2.1.bias', 'backbone.10.0.fc2.1.running_mean', 'backbone.10.0.fc2.1.running_var', 'backbone.10.0.fc2.1.num_batches_tracked', 'backbone.10.1.fc1.0.weight', 'backbone.10.1.fc1.0.bias', 'backbone.10.1.fc1.1.weight', 'backbone.10.1.fc1.1.bias', 'backbone.10.1.fc1.1.running_mean', 'backbone.10.1.fc1.1.running_var', 'backbone.10.1.fc1.1.num_batches_tracked', 'backbone.10.1.fc2.0.weight', 'backbone.10.1.fc2.0.bias', 'backbone.10.1.fc2.1.weight', 'backbone.10.1.fc2.1.bias', 'backbone.10.1.fc2.1.running_mean', 'backbone.10.1.fc2.1.running_var', 'backbone.10.1.fc2.1.num_batches_tracked', 'backbone.11.0.fc1.0.weight', 'backbone.11.0.fc1.0.bias', 'backbone.11.0.fc1.1.weight', 'backbone.11.0.fc1.1.bias', 'backbone.11.0.fc1.1.running_mean', 'backbone.11.0.fc1.1.running_var', 'backbone.11.0.fc1.1.num_batches_tracked', 'backbone.11.0.graph_conv.gconv.nn.0.weight', 'backbone.11.0.graph_conv.gconv.nn.0.bias', 'backbone.11.0.graph_conv.gconv.nn.1.weight', 'backbone.11.0.graph_conv.gconv.nn.1.bias', 'backbone.11.0.graph_conv.gconv.nn.1.running_mean', 'backbone.11.0.graph_conv.gconv.nn.1.running_var', 'backbone.11.0.graph_conv.gconv.nn.1.num_batches_tracked', 'backbone.11.0.fc2.0.weight', 'backbone.11.0.fc2.0.bias', 'backbone.11.0.fc2.1.weight', 'backbone.11.0.fc2.1.bias', 'backbone.11.0.fc2.1.running_mean', 'backbone.11.0.fc2.1.running_var', 'backbone.11.0.fc2.1.num_batches_tracked', 'backbone.11.1.fc1.0.weight', 'backbone.11.1.fc1.0.bias', 'backbone.11.1.fc1.1.weight', 'backbone.11.1.fc1.1.bias', 'backbone.11.1.fc1.1.running_mean', 'backbone.11.1.fc1.1.running_var', 'backbone.11.1.fc1.1.num_batches_tracked', 'backbone.11.1.fc2.0.weight', 'backbone.11.1.fc2.0.bias', 'backbone.11.1.fc2.1.weight', 'backbone.11.1.fc2.1.bias', 'backbone.11.1.fc2.1.running_mean', 'backbone.11.1.fc2.1.running_var', 'backbone.11.1.fc2.1.num_batches_tracked', 'prediction.0.weight', 'prediction.0.bias', 'prediction.1.weight', 'prediction.1.bias', 'prediction.1.running_mean', 'prediction.1.running_var', 'prediction.1.num_batches_tracked', 'prediction.4.weight', 'prediction.4.bias'])\n"
     ]
    }
   ],
   "source": [
    "model=timm.create_model('pvig_ti_224_gelu')\n",
    "model.eval()\n",
    "state=torch.load('vig_checkpoint/vig_ti_74.5.pth')\n",
    "# model.load_state_dict(state)\n",
    "print(model.state_dict().keys())\n",
    "print('------------------------------')\n",
    "print(state.keys())"
   ],
   "metadata": {
    "collapsed": false,
    "pycharm": {
     "name": "#%%\n"
    }
   }
  },
  {
   "cell_type": "code",
   "execution_count": null,
   "outputs": [],
   "source": [],
   "metadata": {
    "collapsed": false,
    "pycharm": {
     "name": "#%%\n"
    }
   }
  }
 ],
 "metadata": {
  "kernelspec": {
   "display_name": "Python 3",
   "language": "python",
   "name": "python3"
  },
  "language_info": {
   "codemirror_mode": {
    "name": "ipython",
    "version": 2
   },
   "file_extension": ".py",
   "mimetype": "text/x-python",
   "name": "python",
   "nbconvert_exporter": "python",
   "pygments_lexer": "ipython2",
   "version": "2.7.6"
  }
 },
 "nbformat": 4,
 "nbformat_minor": 0
}