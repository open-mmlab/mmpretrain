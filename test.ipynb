{
 "cells": [
  {
   "cell_type": "code",
   "execution_count": 2,
   "metadata": {
    "collapsed": true,
    "pycharm": {
     "name": "#%%\n"
    }
   },
   "outputs": [],
   "source": [
    "import timm\n",
    "import torch\n",
    "from mmcls.models import build_classifier"
   ]
  },
  {
   "cell_type": "code",
   "execution_count": 36,
   "outputs": [],
   "source": [
    "# model settings\n",
    "model_cfg = dict(\n",
    "    type='ImageClassifier',\n",
    "    backbone=dict(\n",
    "        type='pyramid_vig',\n",
    "        k=9,\n",
    "        conv='mr',\n",
    "        act='gelu',\n",
    "        norm='batch',\n",
    "        bias=True,\n",
    "        dropout=0.0,\n",
    "        use_dilation=True,\n",
    "        epsilon=0.2,\n",
    "        use_stochastic=False,\n",
    "        drop_path=0,\n",
    "        blocks=[2, 2, 6, 2],\n",
    "        channels=[48, 96, 240, 384],\n",
    "        n_classes=1000,\n",
    "        emb_dims=1024),\n",
    "    head=dict(\n",
    "        type='ClsHead',\n",
    "        loss=dict(type='CrossEntropyLoss', loss_weight=1.0),\n",
    "        topk=(1, 5),\n",
    "    )\n",
    ")\n"
   ],
   "metadata": {
    "collapsed": false,
    "pycharm": {
     "name": "#%%\n"
    }
   }
  },
  {
   "cell_type": "code",
   "execution_count": 34,
   "outputs": [
    {
     "name": "stdout",
     "output_type": "stream",
     "text": [
      "tensor(-40.9511, grad_fn=<SelectBackward>)\n",
      "tensor(6.6987e-14, grad_fn=<SelectBackward>)\n"
     ]
    }
   ],
   "source": [
    "input=torch.ones(3,3,224,224)\n",
    "model_dst.eval()\n",
    "# model_dst.train()\n",
    "print(model_dst(input)[0,0])\n",
    "\n",
    "model_dst.train()\n",
    "# model_dst.eval()\n",
    "print(model_dst(input)[0,0])"
   ],
   "metadata": {
    "collapsed": false,
    "pycharm": {
     "name": "#%%\n"
    }
   }
  },
  {
   "cell_type": "code",
   "execution_count": 4,
   "outputs": [
    {
     "name": "stdout",
     "output_type": "stream",
     "text": [
      "dpr [0.0, 0.0, 0.0, 0.0, 0.0, 0.0, 0.0, 0.0, 0.0, 0.0, 0.0, 0.0]\n",
      "num_knn [9, 9, 10, 11, 12, 13, 13, 14, 15, 16, 17, 18]\n",
      "测试成功0\n",
      "测试成功1\n",
      "测试成功2\n",
      "测试成功3\n",
      "测试成功4\n",
      "测试成功5\n",
      "测试成功6\n",
      "测试成功7\n",
      "测试成功8\n",
      "测试成功9\n"
     ]
    }
   ],
   "source": [
    "model_src=timm.create_model('vig_ti_224_gelu')\n",
    "tensor_test(model_src,'../vig_checkpoint/vig_ti_74.5.pth',model_dst,'../vig_checkpoint_covert/vig_ti.pth')"
   ],
   "metadata": {
    "collapsed": false,
    "pycharm": {
     "name": "#%%\n"
    }
   }
  }
 ],
 "metadata": {
  "kernelspec": {
   "display_name": "Python 3",
   "language": "python",
   "name": "python3"
  },
  "language_info": {
   "codemirror_mode": {
    "name": "ipython",
    "version": 2
   },
   "file_extension": ".py",
   "mimetype": "text/x-python",
   "name": "python",
   "nbconvert_exporter": "python",
   "pygments_lexer": "ipython2",
   "version": "2.7.6"
  }
 },
 "nbformat": 4,
 "nbformat_minor": 0
}
